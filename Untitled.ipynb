{
 "cells": [
  {
   "cell_type": "code",
   "execution_count": 1,
   "metadata": {},
   "outputs": [
    {
     "name": "stdout",
     "output_type": "stream",
     "text": [
      "--2017-06-29 15:59:23--  http://www.stephenmclaughlin.net/DataRefuge/DataRefuge_001_test.zip\n",
      "Resolving www.stephenmclaughlin.net... 208.113.163.135\n",
      "Connecting to www.stephenmclaughlin.net|208.113.163.135|:80... connected.\n",
      "HTTP request sent, awaiting response... 200 OK\n",
      "Length: 398083246 (380M) [application/zip]\n",
      "Saving to: 'DataRefuge_001_test.zip'\n",
      "\n",
      "DataRefuge_001_test 100%[===================>] 379.64M  1.34MB/s    in 3m 9s   \n",
      "\n",
      "2017-06-29 16:02:33 (2.01 MB/s) - 'DataRefuge_001_test.zip' saved [398083246/398083246]\n",
      "\n"
     ]
    }
   ],
   "source": [
    "!wget http://www.stephenmclaughlin.net/DataRefuge/DataRefuge_001_test.zip"
   ]
  },
  {
   "cell_type": "code",
   "execution_count": null,
   "metadata": {
    "collapsed": true
   },
   "outputs": [],
   "source": []
  },
  {
   "cell_type": "code",
   "execution_count": null,
   "metadata": {
    "collapsed": true
   },
   "outputs": [],
   "source": [
    "/Users/mclaugh/Desktop/preservation-torrent/Setup.md"
   ]
  },
  {
   "cell_type": "code",
   "execution_count": null,
   "metadata": {
    "collapsed": true
   },
   "outputs": [],
   "source": [
    "transmission-daemon"
   ]
  },
  {
   "cell_type": "code",
   "execution_count": null,
   "metadata": {
    "collapsed": true
   },
   "outputs": [],
   "source": []
  },
  {
   "cell_type": "code",
   "execution_count": null,
   "metadata": {
    "collapsed": true
   },
   "outputs": [],
   "source": []
  }
 ],
 "metadata": {
  "kernelspec": {
   "display_name": "Python 3",
   "language": "python",
   "name": "python3"
  },
  "language_info": {
   "codemirror_mode": {
    "name": "ipython",
    "version": 3
   },
   "file_extension": ".py",
   "mimetype": "text/x-python",
   "name": "python",
   "nbconvert_exporter": "python",
   "pygments_lexer": "ipython3",
   "version": "3.6.0"
  }
 },
 "nbformat": 4,
 "nbformat_minor": 2
}
